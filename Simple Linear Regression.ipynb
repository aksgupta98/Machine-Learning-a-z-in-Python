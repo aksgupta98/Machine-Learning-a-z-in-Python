{
 "cells": [
  {
   "cell_type": "code",
   "execution_count": null,
   "metadata": {},
   "outputs": [],
   "source": [
    "# importing the libraries\n",
    "import numpy as np\n",
    "import matplotlib.pyplot as plt\n",
    "import pandas as pd\n",
    "\n",
    "#importing the dataset\n",
    "dataset=pd.read_csv('Salary_Data.csv')\n",
    "\n",
    "#Setting Matrix of Features(Independent Variable) and Dependent Variable\n",
    "X=dataset.iloc[:,0:1].values\n",
    "y=dataset.iloc[:,1].values\n",
    "\n",
    "# Splitting the dataset into training and test set\n",
    "from sklearn.model_selection import train_test_split\n",
    "X_train,X_test,y_train,y_test=train_test_split(X,y,test_size=1/3,random_state=0)  #Split dataset\n",
    "#into train and test data\n",
    "#test_size=1/3 == (1/3)of 30 observations ==> 10 obs in test_set\n",
    "#random_state is set to 0 here to exactly match the results with the video\n",
    "#good choice of random_state is 42"
   ]
  },
  {
   "cell_type": "code",
   "execution_count": null,
   "metadata": {},
   "outputs": [],
   "source": [
    "X.size"
   ]
  },
  {
   "cell_type": "code",
   "execution_count": null,
   "metadata": {},
   "outputs": [],
   "source": [
    "y.size"
   ]
  },
  {
   "cell_type": "code",
   "execution_count": null,
   "metadata": {},
   "outputs": [],
   "source": [
    "X_test"
   ]
  },
  {
   "cell_type": "code",
   "execution_count": null,
   "metadata": {},
   "outputs": [],
   "source": [
    "#Feature Scaling is not needed in Linear Regression\n",
    "#Library takes care of it"
   ]
  },
  {
   "cell_type": "code",
   "execution_count": null,
   "metadata": {},
   "outputs": [],
   "source": [
    "#Fitting Simple Linear Regression to training Set\n",
    "\n",
    "from sklearn.linear_model import LinearRegression\n",
    "\n",
    "#Creating object for LinearRegression class\n",
    "regressor=LinearRegression()"
   ]
  },
  {
   "cell_type": "code",
   "execution_count": null,
   "metadata": {},
   "outputs": [],
   "source": [
    "regressor.fit(X_train,y_train)\n",
    "#fit is method of LinearRegression class"
   ]
  },
  {
   "cell_type": "code",
   "execution_count": null,
   "metadata": {},
   "outputs": [],
   "source": [
    "#Prodicting the test results\n",
    "\n",
    "y_pred=regressor.predict(X_test)"
   ]
  },
  {
   "cell_type": "code",
   "execution_count": null,
   "metadata": {},
   "outputs": [],
   "source": [
    "y_pred"
   ]
  },
  {
   "cell_type": "code",
   "execution_count": null,
   "metadata": {},
   "outputs": [],
   "source": [
    "y_test"
   ]
  },
  {
   "cell_type": "code",
   "execution_count": null,
   "metadata": {},
   "outputs": [],
   "source": [
    "#Visualising the training set results\n",
    "\n",
    "#Creating scatter plot\n",
    "\n",
    "plt.scatter(X_train,y_train,color='red') ##These are real values\n",
    "\n",
    "\n",
    "#These are predicted values\n",
    "plt.plot(X_train,regressor.predict(X_train),color='black')\n",
    "plt.title('Salary v/s Experience on Training Set')\n",
    "plt.xlabel('Years of Experience')\n",
    "plt.ylabel('Salary')\n",
    "plt.show()"
   ]
  },
  {
   "cell_type": "code",
   "execution_count": null,
   "metadata": {},
   "outputs": [],
   "source": [
    "##Visulaising Test Set\n",
    "\n",
    "##Plotting the observation points of test set\n",
    "plt.scatter(X_test,y_test,color='red')\n",
    "\n",
    "#Predicted Values\n",
    "\n",
    "#Either use this\n",
    "#plt.plot(X_train,regressor.predict(X_train),color='blue')\n",
    "#or:\n",
    "#plt.plot(X_test,y_pred,color='black')\n",
    "#or:\n",
    "plt.plot(X_test,regressor.predict(X_test),color='blue')\n",
    "plt.title('Salary v/s Experience on Test Set')\n",
    "plt.xlabel('Years of Experinece')\n",
    "plt.ylabel('Salary')\n",
    "plt.show()"
   ]
  },
  {
   "cell_type": "code",
   "execution_count": null,
   "metadata": {},
   "outputs": [],
   "source": []
  }
 ],
 "metadata": {
  "kernelspec": {
   "display_name": "Python 3",
   "language": "python",
   "name": "python3"
  },
  "language_info": {
   "codemirror_mode": {
    "name": "ipython",
    "version": 3
   },
   "file_extension": ".py",
   "mimetype": "text/x-python",
   "name": "python",
   "nbconvert_exporter": "python",
   "pygments_lexer": "ipython3",
   "version": "3.7.1"
  }
 },
 "nbformat": 4,
 "nbformat_minor": 2
}
